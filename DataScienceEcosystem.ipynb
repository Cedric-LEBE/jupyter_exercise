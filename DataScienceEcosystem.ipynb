{
 "cells": [
  {
   "cell_type": "markdown",
   "id": "35247d8e-fbbe-4f83-97fa-ac4929345948",
   "metadata": {},
   "source": [
    "# Outils et écosystème de la science des données"
   ]
  },
  {
   "cell_type": "markdown",
   "id": "653d729f-9c0d-4424-b4b3-8913d15348fb",
   "metadata": {},
   "source": [
    "Dans ce notebook, les outils et l'écosystème de la science des données sont résumés."
   ]
  },
  {
   "cell_type": "markdown",
   "id": "49eb830b-409c-414c-8b78-782a7f90c355",
   "metadata": {},
   "source": [
    "Certains des langages populaires que les scientifiques des données utilisent sont :"
   ]
  },
  {
   "cell_type": "markdown",
   "id": "83c84315-cde0-4a88-829e-1a82f416968e",
   "metadata": {},
   "source": [
    "#### Objectifs :"
   ]
  },
  {
   "cell_type": "markdown",
   "id": "e2368376-6b92-4fc0-b42a-942328f17105",
   "metadata": {},
   "source": [
    "L'objectif de ce cours est de se familiariser au mieux avec les outils Jupyter NoteBook et GitHub"
   ]
  },
  {
   "cell_type": "markdown",
   "id": "8add7940-af4f-44f5-9f8b-e5d6d60b45f6",
   "metadata": {},
   "source": [
    "Lister les langages populaires pour la science des données "
   ]
  },
  {
   "cell_type": "markdown",
   "id": "7c2108e1-ca33-412e-aa6d-5a2ecfac8e04",
   "metadata": {},
   "source": [
    "liste ordonnée : R, Python, Java Script, Langage SQL"
   ]
  },
  {
   "cell_type": "markdown",
   "id": "83264c0a-1b61-4f9c-bf0c-e22268cf599a",
   "metadata": {},
   "source": [
    "Certaines des bibliothèques couramment utilisées par les scientifiques des données incluent :\n",
    "* R\n",
    "* Python\n",
    "* Language SQL\n",
    "* Langyage M"
   ]
  },
  {
   "cell_type": "markdown",
   "id": "e3e684af-dce9-4163-be84-e70fcf04330e",
   "metadata": {},
   "source": [
    "liste ordonnée : Pandas, Numpy, Tensorflow, "
   ]
  },
  {
   "cell_type": "markdown",
   "id": "7ca3c125-9ebe-4dc6-8220-6ddb785ece34",
   "metadata": {},
   "source": [
    "| Outils de la science des données |\n",
    "------------------------------------\n",
    "|Githhub                           |\n",
    "|Git Lab                           |\n",
    "|Github                            |\n",
    "|Docker                            |\n"
   ]
  },
  {
   "cell_type": "markdown",
   "id": "7261c56b-612b-422f-88bc-aead2286dde0",
   "metadata": {},
   "source": [
    "### Voici quelques exemples d'évaluation d'expressions arithmétiques en Python."
   ]
  },
  {
   "cell_type": "markdown",
   "id": "9d8de8db-73d0-456b-870a-638dbab8cb88",
   "metadata": {},
   "source": [
    "Ceci est une simple expression arithmétique pour multiplier puis additionner des entiers"
   ]
  },
  {
   "cell_type": "code",
   "execution_count": 2,
   "id": "c1620e40-bc25-453a-a7fe-c6424675b0b7",
   "metadata": {},
   "outputs": [
    {
     "data": {
      "text/plain": [
       "17"
      ]
     },
     "execution_count": 2,
     "metadata": {},
     "output_type": "execute_result"
    }
   ],
   "source": [
    "(3*4)+5"
   ]
  },
  {
   "cell_type": "markdown",
   "id": "98bdb780-bb56-46d0-99d5-1f887aafb858",
   "metadata": {},
   "source": [
    "Cela convertira 200 minutes en heures en divisant par 60"
   ]
  },
  {
   "cell_type": "code",
   "execution_count": 11,
   "id": "e0939c6e-f707-40ef-a7d4-97db276c2e96",
   "metadata": {},
   "outputs": [
    {
     "name": "stdout",
     "output_type": "stream",
     "text": [
      "3h20min\n"
     ]
    }
   ],
   "source": [
    "x, y = divmod(200,60)\n",
    "print(f\"{x}h{y}min\")"
   ]
  },
  {
   "cell_type": "markdown",
   "id": "2963aa35-cfa8-4c62-a643-a515ba728acf",
   "metadata": {},
   "source": [
    "## Auteur\n",
    "Cédric LEBE"
   ]
  },
  {
   "cell_type": "code",
   "execution_count": null,
   "id": "c8821c16-8cbd-43ad-91e5-f9f57383ac26",
   "metadata": {},
   "outputs": [],
   "source": []
  }
 ],
 "metadata": {
  "kernelspec": {
   "display_name": "Python 3 (ipykernel)",
   "language": "python",
   "name": "python3"
  },
  "language_info": {
   "codemirror_mode": {
    "name": "ipython",
    "version": 3
   },
   "file_extension": ".py",
   "mimetype": "text/x-python",
   "name": "python",
   "nbconvert_exporter": "python",
   "pygments_lexer": "ipython3",
   "version": "3.12.7"
  }
 },
 "nbformat": 4,
 "nbformat_minor": 5
}
